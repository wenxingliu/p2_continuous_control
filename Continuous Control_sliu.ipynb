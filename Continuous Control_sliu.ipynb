{
 "cells": [
  {
   "cell_type": "markdown",
   "metadata": {},
   "source": [
    "### Hyper Parameters"
   ]
  },
  {
   "cell_type": "code",
   "execution_count": 1,
   "metadata": {},
   "outputs": [],
   "source": [
    "MEMORY_BUFFER = int(1e6)\n",
    "BATCH_SIZE = 128\n",
    "UPDATE_FREQUENCY_PER_STEP = 3\n",
    "GAMMA = .99\n",
    "LR_A = 1e-5\n",
    "LR_C = 1e-5\n",
    "TAU = 1e-3\n",
    "WEIGHT_DECAY = 0"
   ]
  },
  {
   "cell_type": "code",
   "execution_count": null,
   "metadata": {},
   "outputs": [],
   "source": [
    "from train import train_agent\n",
    "from utils import plot_scores\n",
    " %matplotlib inline"
   ]
  },
  {
   "cell_type": "markdown",
   "metadata": {},
   "source": [
    "### Train Agent"
   ]
  },
  {
   "cell_type": "markdown",
   "metadata": {},
   "source": [
    "DDPG"
   ]
  },
  {
   "cell_type": "code",
   "execution_count": null,
   "metadata": {
    "scrolled": false
   },
   "outputs": [
    {
     "name": "stdout",
     "output_type": "stream",
     "text": [
      "Use default DDPG agent......\n",
      "\n"
     ]
    },
    {
     "name": "stderr",
     "output_type": "stream",
     "text": [
      "INFO:unityagents:\n",
      "'Academy' started successfully!\n",
      "Unity Academy name: Academy\n",
      "        Number of Brains: 1\n",
      "        Number of External Brains : 1\n",
      "        Lesson number : 0\n",
      "        Reset Parameters :\n",
      "\t\tgoal_speed -> 1.0\n",
      "\t\tgoal_size -> 5.0\n",
      "Unity brain name: ReacherBrain\n",
      "        Number of Visual Observations (per agent): 0\n",
      "        Vector Observation space type: continuous\n",
      "        Vector Observation space size (per agent): 33\n",
      "        Number of stacked Vector Observation: 1\n",
      "        Vector Action space type: continuous\n",
      "        Vector Action space size (per agent): 4\n",
      "        Vector Action descriptions: , , , \n",
      "C:\\Miniconda3\\envs\\drlnd\\lib\\site-packages\\torch\\nn\\functional.py:995: UserWarning: nn.functional.tanh is deprecated. Use torch.tanh instead.\n",
      "  warnings.warn(\"nn.functional.tanh is deprecated. Use torch.tanh instead.\")\n"
     ]
    },
    {
     "name": "stdout",
     "output_type": "stream",
     "text": [
      "Episode 1, avg score: 1.18\n",
      "Episode 2, avg score: 1.17\n",
      "Episode 3, avg score: 2.01\n",
      "Episode 4, avg score: 1.78\n",
      "Episode 5, avg score: 1.89\n",
      "Episode 6, avg score: 2.56\n",
      "Episode 7, avg score: 4.11\n",
      "Episode 8, avg score: 5.12\n",
      "Episode 9, avg score: 5.95\n",
      "Episode 10, avg score: 6.66\n",
      "Episode 11, avg score: 8.29\n",
      "Episode 12, avg score: 9.09\n",
      "Episode 13, avg score: 9.15\n",
      "Episode 14, avg score: 10.23\n",
      "Episode 15, avg score: 12.64\n",
      "Episode 16, avg score: 14.38\n",
      "Episode 17, avg score: 14.05\n",
      "Episode 18, avg score: 14.71\n",
      "Episode 19, avg score: 15.01\n",
      "Episode 20, avg score: 13.59\n",
      "Episode 21, avg score: 15.71\n",
      "Episode 22, avg score: 15.12\n",
      "Episode 23, avg score: 15.69\n",
      "Episode 24, avg score: 17.59\n",
      "Episode 25, avg score: 17.83\n",
      "Episode 26, avg score: 18.29\n",
      "Episode 27, avg score: 18.98\n",
      "Episode 28, avg score: 19.57\n",
      "Episode 29, avg score: 18.90\n",
      "Episode 30, avg score: 19.56\n",
      "Episode 31, avg score: 20.25\n",
      "Episode 32, avg score: 20.85\n",
      "Episode 33, avg score: 23.85\n",
      "Episode 34, avg score: 23.96\n",
      "Episode 35, avg score: 24.01\n",
      "Episode 36, avg score: 25.82\n",
      "Episode 37, avg score: 25.69\n",
      "Episode 38, avg score: 28.32\n",
      "Episode 39, avg score: 26.57\n",
      "Episode 40, avg score: 27.66\n",
      "Episode 41, avg score: 27.37\n",
      "Episode 42, avg score: 28.70\n",
      "Episode 43, avg score: 30.13\n",
      "Episode 44, avg score: 29.34\n",
      "Episode 45, avg score: 31.64\n",
      "Episode 46, avg score: 30.88\n",
      "Episode 47, avg score: 31.46\n",
      "Episode 48, avg score: 30.87\n",
      "Episode 49, avg score: 31.72\n",
      "Episode 50, avg score: 30.04\n",
      "Episode 51, avg score: 32.33\n",
      "Episode 52, avg score: 31.58\n",
      "Episode 53, avg score: 33.17\n",
      "Episode 54, avg score: 33.16\n",
      "Episode 55, avg score: 33.21\n",
      "Episode 56, avg score: 35.83\n",
      "Episode 57, avg score: 35.15\n",
      "Episode 58, avg score: 35.50\n",
      "Episode 59, avg score: 35.87\n",
      "Episode 60, avg score: 36.27\n",
      "Episode 61, avg score: 37.58\n",
      "Episode 62, avg score: 37.21\n",
      "Episode 63, avg score: 38.26\n",
      "Episode 64, avg score: 38.22\n",
      "Episode 65, avg score: 38.86\n",
      "Episode 66, avg score: 38.30\n",
      "Episode 67, avg score: 37.93\n",
      "Episode 68, avg score: 39.07\n",
      "Episode 69, avg score: 38.67\n",
      "Episode 70, avg score: 37.78\n",
      "Episode 71, avg score: 38.22\n",
      "Episode 72, avg score: 38.76\n",
      "Episode 73, avg score: 38.62\n",
      "Episode 74, avg score: 39.18\n",
      "Episode 75, avg score: 38.84\n",
      "Episode 76, avg score: 38.94\n",
      "Episode 77, avg score: 38.37\n",
      "Episode 78, avg score: 39.12\n",
      "Episode 79, avg score: 38.82\n",
      "Episode 80, avg score: 38.54\n",
      "Episode 81, avg score: 38.87\n",
      "Episode 82, avg score: 38.36\n",
      "Episode 83, avg score: 38.52\n",
      "Episode 84, avg score: 39.07\n",
      "Episode 85, avg score: 38.62\n",
      "Episode 86, avg score: 38.89\n",
      "Episode 87, avg score: 39.13\n",
      "Episode 88, avg score: 38.51\n",
      "Episode 89, avg score: 38.84\n"
     ]
    }
   ],
   "source": [
    "scores = train_agent(episodes=200, model='DDPG')"
   ]
  },
  {
   "cell_type": "code",
   "execution_count": null,
   "metadata": {},
   "outputs": [],
   "source": [
    "plot_scores(scores, 'DDPG')"
   ]
  },
  {
   "cell_type": "code",
   "execution_count": null,
   "metadata": {},
   "outputs": [],
   "source": [
    "def plot_scores(scores, model_name='DDPG'):\n",
    "    fig = plt.figure()\n",
    "    ax = fig.add_subplot(111)\n",
    "    plt.plot(np.arange(1, len(scores) + 1), scores)\n",
    "    plt.ylabel('Score')\n",
    "    plt.xlabel('Episode')\n",
    "    plt.show()\n",
    "\n",
    "    fig.savefig('%s_scores.png' % model_name)"
   ]
  },
  {
   "cell_type": "markdown",
   "metadata": {},
   "source": [
    "Test"
   ]
  },
  {
   "cell_type": "markdown",
   "metadata": {},
   "source": [
    "D4PG"
   ]
  },
  {
   "cell_type": "code",
   "execution_count": null,
   "metadata": {},
   "outputs": [],
   "source": [
    "scores = train_agent(episodes=200, model='D4PG')"
   ]
  }
 ],
 "metadata": {
  "kernelspec": {
   "display_name": "drlnd",
   "language": "python",
   "name": "drlnd"
  },
  "language_info": {
   "codemirror_mode": {
    "name": "ipython",
    "version": 3
   },
   "file_extension": ".py",
   "mimetype": "text/x-python",
   "name": "python",
   "nbconvert_exporter": "python",
   "pygments_lexer": "ipython3",
   "version": "3.6.6"
  }
 },
 "nbformat": 4,
 "nbformat_minor": 2
}
