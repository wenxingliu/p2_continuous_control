{
 "cells": [
  {
   "cell_type": "markdown",
   "metadata": {},
   "source": [
    "# Continuous Control\n",
    "\n",
    "---\n",
    "\n",
    "In this notebook, you will learn how to use the Unity ML-Agents environment for the second project of the [Deep Reinforcement Learning Nanodegree](https://www.udacity.com/course/deep-reinforcement-learning-nanodegree--nd893) program.\n",
    "\n",
    "### 1. Start the Environment\n",
    "\n",
    "We begin by importing the necessary packages.  If the code cell below returns an error, please revisit the project instructions to double-check that you have installed [Unity ML-Agents](https://github.com/Unity-Technologies/ml-agents/blob/master/docs/Installation.md) and [NumPy](http://www.numpy.org/)."
   ]
  },
  {
   "cell_type": "code",
   "execution_count": 1,
   "metadata": {},
   "outputs": [
    {
     "ename": "ModuleNotFoundError",
     "evalue": "No module named 'unityagents'",
     "output_type": "error",
     "traceback": [
      "\u001b[1;31m---------------------------------------------------------------------------\u001b[0m",
      "\u001b[1;31mModuleNotFoundError\u001b[0m                       Traceback (most recent call last)",
      "\u001b[1;32m<ipython-input-1-32b6fc16a6ee>\u001b[0m in \u001b[0;36m<module>\u001b[1;34m()\u001b[0m\n\u001b[1;32m----> 1\u001b[1;33m \u001b[1;32mfrom\u001b[0m \u001b[0munityagents\u001b[0m \u001b[1;32mimport\u001b[0m \u001b[0mUnityEnvironment\u001b[0m\u001b[1;33m\u001b[0m\u001b[0m\n\u001b[0m\u001b[0;32m      2\u001b[0m \u001b[1;32mimport\u001b[0m \u001b[0mnumpy\u001b[0m \u001b[1;32mas\u001b[0m \u001b[0mnp\u001b[0m\u001b[1;33m\u001b[0m\u001b[0m\n",
      "\u001b[1;31mModuleNotFoundError\u001b[0m: No module named 'unityagents'"
     ]
    }
   ],
   "source": [
    "from unityagents import UnityEnvironment\n",
    "import numpy as np"
   ]
  },
  {
   "cell_type": "markdown",
   "metadata": {},
   "source": [
    "Next, we will start the environment!  **_Before running the code cell below_**, change the `file_name` parameter to match the location of the Unity environment that you downloaded.\n",
    "\n",
    "- **Mac**: `\"path/to/Reacher.app\"`\n",
    "- **Windows** (x86): `\"path/to/Reacher_Windows_x86/Reacher.exe\"`\n",
    "- **Windows** (x86_64): `\"path/to/Reacher_Windows_x86_64/Reacher.exe\"`\n",
    "- **Linux** (x86): `\"path/to/Reacher_Linux/Reacher.x86\"`\n",
    "- **Linux** (x86_64): `\"path/to/Reacher_Linux/Reacher.x86_64\"`\n",
    "- **Linux** (x86, headless): `\"path/to/Reacher_Linux_NoVis/Reacher.x86\"`\n",
    "- **Linux** (x86_64, headless): `\"path/to/Reacher_Linux_NoVis/Reacher.x86_64\"`\n",
    "\n",
    "For instance, if you are using a Mac, then you downloaded `Reacher.app`.  If this file is in the same folder as the notebook, then the line below should appear as follows:\n",
    "```\n",
    "env = UnityEnvironment(file_name=\"Reacher.app\")\n",
    "```"
   ]
  },
  {
   "cell_type": "code",
   "execution_count": null,
   "metadata": {},
   "outputs": [],
   "source": [
    "env = UnityEnvironment(file_name='Reacher_1.app')"
   ]
  },
  {
   "cell_type": "markdown",
   "metadata": {},
   "source": [
    "Environments contain **_brains_** which are responsible for deciding the actions of their associated agents. Here we check for the first brain available, and set it as the default brain we will be controlling from Python."
   ]
  },
  {
   "cell_type": "code",
   "execution_count": null,
   "metadata": {},
   "outputs": [],
   "source": [
    "# get the default brain\n",
    "brain_name = env.brain_names[0]\n",
    "brain = env.brains[brain_name]"
   ]
  },
  {
   "cell_type": "markdown",
   "metadata": {},
   "source": [
    "### 2. Examine the State and Action Spaces\n",
    "\n",
    "In this environment, a double-jointed arm can move to target locations. A reward of `+0.1` is provided for each step that the agent's hand is in the goal location. Thus, the goal of your agent is to maintain its position at the target location for as many time steps as possible.\n",
    "\n",
    "The observation space consists of `33` variables corresponding to position, rotation, velocity, and angular velocities of the arm.  Each action is a vector with four numbers, corresponding to torque applicable to two joints.  Every entry in the action vector must be a number between `-1` and `1`.\n",
    "\n",
    "Run the code cell below to print some information about the environment."
   ]
  },
  {
   "cell_type": "code",
   "execution_count": null,
   "metadata": {},
   "outputs": [],
   "source": [
    "# reset the environment\n",
    "env_info = env.reset(train_mode=True)[brain_name]\n",
    "\n",
    "# number of agents\n",
    "num_agents = len(env_info.agents)\n",
    "print('Number of agents:', num_agents)\n",
    "\n",
    "# size of each action\n",
    "action_size = brain.vector_action_space_size\n",
    "print('Size of each action:', action_size)\n",
    "\n",
    "# examine the state space \n",
    "states = env_info.vector_observations\n",
    "state_size = states.shape[1]\n",
    "print('There are {} agents. Each observes a state with length: {}'.format(states.shape[0], state_size))\n",
    "print('The state for the first agent looks like:', states[0])"
   ]
  },
  {
   "cell_type": "markdown",
   "metadata": {},
   "source": [
    "### 3. Take Random Actions in the Environment\n",
    "\n",
    "In the next code cell, you will learn how to use the Python API to control the agent and receive feedback from the environment.\n",
    "\n",
    "Once this cell is executed, you will watch the agent's performance, if it selects an action at random with each time step.  A window should pop up that allows you to observe the agent, as it moves through the environment.  \n",
    "\n",
    "Of course, as part of the project, you'll have to change the code so that the agent is able to use its experience to gradually choose better actions when interacting with the environment!"
   ]
  },
  {
   "cell_type": "code",
   "execution_count": null,
   "metadata": {},
   "outputs": [],
   "source": [
    "env_info = env.reset(train_mode=False)[brain_name]     # reset the environment    \n",
    "states = env_info.vector_observations                  # get the current state (for each agent)\n",
    "scores = np.zeros(num_agents)                          # initialize the score (for each agent)\n",
    "max_steps = 10\n",
    "step_count = 0\n",
    "while step_count <= max_steps:\n",
    "    actions = np.random.randn(num_agents, action_size) # select an action (for each agent)\n",
    "    actions = np.clip(actions, -1, 1)                  # all actions between -1 and 1\n",
    "    env_info = env.step(actions)[brain_name]           # send all actions to tne environment\n",
    "    next_states = env_info.vector_observations         # get next state (for each agent)\n",
    "    rewards = env_info.rewards                         # get reward (for each agent)\n",
    "    dones = env_info.local_done                        # see if episode finished\n",
    "    scores += env_info.rewards                         # update the score (for each agent)\n",
    "    states = next_states                               # roll over states to next time step\n",
    "    step_count += 1\n",
    "    if np.any(dones):                                  # exit loop if episode finished\n",
    "        break\n",
    "print('Total score (averaged over agents) this episode: {}'.format(np.mean(scores)))"
   ]
  },
  {
   "cell_type": "markdown",
   "metadata": {},
   "source": [
    "When finished, you can close the environment."
   ]
  },
  {
   "cell_type": "code",
   "execution_count": null,
   "metadata": {},
   "outputs": [],
   "source": [
    "# env.close()"
   ]
  },
  {
   "cell_type": "markdown",
   "metadata": {},
   "source": [
    "### 4. It's Your Turn!\n",
    "\n",
    "Now it's your turn to train your own agent to solve the environment!  When training the environment, set `train_mode=True`, so that the line for resetting the environment looks like the following:\n",
    "```python\n",
    "env_info = env.reset(train_mode=True)[brain_name]\n",
    "```"
   ]
  },
  {
   "cell_type": "code",
   "execution_count": null,
   "metadata": {},
   "outputs": [],
   "source": [
    "env_info = env.reset(train_mode=True)[brain_name]"
   ]
  },
  {
   "cell_type": "code",
   "execution_count": null,
   "metadata": {},
   "outputs": [],
   "source": [
    "actions = np.random.randn(num_agents, action_size) # select an action (for each agent)\n",
    "actions = np.clip(actions, -1, 1)"
   ]
  },
  {
   "cell_type": "code",
   "execution_count": null,
   "metadata": {},
   "outputs": [],
   "source": [
    "env_info = env.step(actions)[brain_name]           # send all actions to tne environment\n",
    "next_states = env_info.vector_observations"
   ]
  },
  {
   "cell_type": "markdown",
   "metadata": {},
   "source": [
    "Critic"
   ]
  },
  {
   "cell_type": "code",
   "execution_count": null,
   "metadata": {},
   "outputs": [],
   "source": [
    "import torch\n",
    "import torch.nn as nn\n",
    "import torch.nn.functional as F\n",
    "\n",
    "from collections import OrderedDict, deque, namedtuple\n",
    "import random\n",
    "import sys\n",
    "import copy"
   ]
  },
  {
   "cell_type": "code",
   "execution_count": null,
   "metadata": {},
   "outputs": [],
   "source": [
    "device = \"cuda\" if torch.cuda.is_available() else \"cpu\""
   ]
  },
  {
   "cell_type": "code",
   "execution_count": null,
   "metadata": {},
   "outputs": [],
   "source": [
    "REPLAY_MEMORY_SIZE = int(1e6)\n",
    "REPLAY_BATCH_SIZE = 128\n",
    "LR_ACTOR = 5e-3\n",
    "LR_CRITIC = 1e-3\n",
    "TAU = 1e-3\n",
    "GAMMA = 0.99\n",
    "WEIGHT_DECAY = 0\n",
    "NOISE_DECAY = 0.9999\n",
    "UPDATE_EVERY = 64"
   ]
  },
  {
   "cell_type": "code",
   "execution_count": null,
   "metadata": {},
   "outputs": [],
   "source": [
    "def fanin_init(size, fanin=None):\n",
    "    fanin = fanin or size[0]\n",
    "    v = 1. / np.sqrt(fanin)\n",
    "    return torch.Tensor(size).uniform_(-v, v)\n",
    "\n",
    "def get_randome_seed():\n",
    "    np.random.seed()\n",
    "    seed = np.random.randint(0, sys.maxsize)\n",
    "    return seed"
   ]
  },
  {
   "cell_type": "code",
   "execution_count": null,
   "metadata": {},
   "outputs": [],
   "source": [
    "class ReplayBuffer:\n",
    "    \n",
    "    def __init__(self, action_size, buffer_size, batch_size, seed):\n",
    "        \n",
    "        self.action_size = action_size\n",
    "        self.memory = deque(maxlen=buffer_size)\n",
    "        self.batch_size = batch_size\n",
    "        self.experience = namedtuple(\"Experience\", \n",
    "                                     field_names=[\"state\", \"action\", \"reward\", \"next_state\", \"done\"])\n",
    "        self.seed = random.seed(seed)\n",
    "    \n",
    "    def add(self, states, actions, rewards, next_states, dones):\n",
    "        for (state, action, reward, next_state, done) in zip(states, actions, rewards, next_states, dones): \n",
    "            e = self.experience(state, action, reward, next_state, done)\n",
    "            self.memory.append(e)\n",
    "        \n",
    "    def sample(self):\n",
    "        experiences = random.sample(self.memory, k=self.batch_size)\n",
    "        \n",
    "        states = torch.from_numpy(np.vstack([e.state for e in experiences if e is not None])).float().to(device)\n",
    "        actions = torch.from_numpy(np.vstack([e.action for e in experiences if e is not None])).float().to(device)\n",
    "        rewards = torch.from_numpy(np.vstack([e.reward for e in experiences if e is not None])).float().to(device)\n",
    "        next_states = torch.from_numpy(np.vstack([e.next_state for e in experiences if e is not None])).float().to(device)\n",
    "        dones = torch.from_numpy(np.vstack([e.done for e in experiences if e is not None]).astype(np.uint8)).float().to(device)\n",
    "        \n",
    "        return (states, actions, rewards, next_states, dones)\n",
    "    \n",
    "    def __len__(self):\n",
    "        return len(self.memory)"
   ]
  },
  {
   "cell_type": "code",
   "execution_count": null,
   "metadata": {},
   "outputs": [],
   "source": [
    "class ActorNet(nn.Module):\n",
    "    \n",
    "    def __init__(self, state_size, action_size, hidden_layers=[256], seed=0):\n",
    "        super(ActorNet, self).__init__()\n",
    "        self.seed = torch.manual_seed(seed)\n",
    "        self.fc1 = nn.Linear(state_size, hidden_layers[0])\n",
    "        self.fc2 = nn.Linear(hidden_layers[0], action_size)\n",
    "        self.init_weights()\n",
    "        self.to(device)\n",
    "\n",
    "    def forward(self, states):\n",
    "        x = states\n",
    "        x = torch.relu(self.fc1(x))\n",
    "        x = torch.tanh(self.fc2(x))\n",
    "        return x\n",
    "    \n",
    "    def init_weights(self):\n",
    "        self.fc1.weight.data = fanin_init(self.fc1.weight.data.size())\n",
    "        self.fc2.weight.data = self.fc2.weight.data.uniform_(-3e-3, 3e-3)"
   ]
  },
  {
   "cell_type": "code",
   "execution_count": null,
   "metadata": {},
   "outputs": [],
   "source": [
    "class CriticNet(nn.Module):\n",
    "    \n",
    "    def __init__(self, state_size, action_size, hidden_layers=[256, 128, 64], seed=0):\n",
    "        super(CriticNet, self).__init__()\n",
    "        self.seed = torch.manual_seed(seed)\n",
    "        self.fc1 = nn.Linear(state_size, hidden_layers[0])\n",
    "        self.fc2 = nn.Linear(hidden_layers[0] + action_size, hidden_layers[1])\n",
    "        self.fc3 = nn.Linear(hidden_layers[1], hidden_layers[2])\n",
    "        self.fc4 = nn.Linear(hidden_layers[2], 1)\n",
    "        self.init_weights()\n",
    "        self.to(device)\n",
    "    \n",
    "    def forward(self, states, actions):\n",
    "        x = F.leaky_relu(self.fc1(states))\n",
    "        y = actions\n",
    "        x = torch.cat([x, y], -1)\n",
    "        x = F.leaky_relu(self.fc2(x))\n",
    "        x = F.leaky_relu(self.fc3(x))\n",
    "        x = self.fc4(x)\n",
    "        return x\n",
    "    \n",
    "    def init_weights(self):\n",
    "        self.fc1.weight.data = fanin_init(self.fc1.weight.data.size())\n",
    "        self.fc2.weight.data = fanin_init(self.fc2.weight.data.size())\n",
    "        self.fc3.weight.data = fanin_init(self.fc3.weight.data.size())\n",
    "        self.fc4.weight.data = self.fc4.weight.data.uniform_(-3e-3, 3e-3)"
   ]
  },
  {
   "cell_type": "code",
   "execution_count": null,
   "metadata": {},
   "outputs": [],
   "source": [
    "class ActorCriticNets:\n",
    "    \n",
    "    def __init__(self, state_size, action_size, seed=0):\n",
    "        super(ActorCriticNets, self).__init__()\n",
    "        self.seed = seed\n",
    "        self.actor = ActorNet(state_size=state_size, action_size=action_size, seed=seed)\n",
    "        self.critic = CriticNet(state_size=state_size, action_size=action_size, seed=seed)"
   ]
  },
  {
   "cell_type": "code",
   "execution_count": null,
   "metadata": {},
   "outputs": [],
   "source": [
    "class DDPGAgent():\n",
    "    \n",
    "    def __init__(self, state_size, action_size, train_mode=True, seed=None):\n",
    "        super(DDPGAgent, self).__init__()\n",
    "        self.seed = random.seed(seed)\n",
    "        self.state_size = state_size\n",
    "        self.action_size = action_size\n",
    "        self.train_mode = train_mode\n",
    "        self.local_networks = ActorCriticNets(state_size, action_size, seed)\n",
    "        self.target_networks = ActorCriticNets(state_size, action_size, seed)\n",
    "        self.hard_update()\n",
    "                \n",
    "        self.actor_opt = torch.optim.Adam(self.local_networks.actor.parameters(), lr=LR_ACTOR)\n",
    "        self.actor_opt_scheduler = torch.optim.lr_scheduler.StepLR(self.actor_opt, step_size=500, gamma=0.9)\n",
    "        \n",
    "        self.critic_opt = torch.optim.Adam(self.local_networks.critic.parameters(), lr=LR_CRITIC, weight_decay=WEIGHT_DECAY)\n",
    "        self.critic_opt_scheduler = torch.optim.lr_scheduler.StepLR(self.critic_opt, step_size=500, gamma=0.9)\n",
    "        \n",
    "        self.memory = ReplayBuffer(action_size=action_size, \n",
    "                                   buffer_size=REPLAY_MEMORY_SIZE, \n",
    "                                   batch_size=REPLAY_BATCH_SIZE, \n",
    "                                   seed=seed)\n",
    "        self.states = None\n",
    "        self.scores = np.zeros(num_agents)\n",
    "        self.update_every = UPDATE_EVERY\n",
    "        self.steps = 0\n",
    "        \n",
    "        self.noise = OUNoise(seed=seed, size=action_size)\n",
    "        self.normalizer = Normalizer()\n",
    "\n",
    "    \n",
    "    def reset(self, env, brain_name=brain_name):\n",
    "        self.scores = np.zeros(num_agents)\n",
    "        self.steps = 0\n",
    "        env_info = env.reset(train_mode=self.train_mode)[brain_name] \n",
    "        self.states = env_info.vector_observations\n",
    "        \n",
    "    def select_action(self):\n",
    "        states = torch.from_numpy(self.states).float().to(device)\n",
    "        self.local_networks.actor.eval()\n",
    "        with torch.no_grad():\n",
    "            actions = self.local_networks.actor(states).cpu().data.numpy()\n",
    "        self.local_networks.actor.train()\n",
    "        \n",
    "        if self.train_mode:\n",
    "            actions += self.noise.sample()\n",
    "        actions = np.clip(actions, -1, 1)\n",
    "        return actions\n",
    "        \n",
    "    def act(self, env, brain_name=brain_name):                \n",
    "        actions = self.select_action()\n",
    "        env_info = env.step(actions)[brain_name]  \n",
    "        next_states = env_info.vector_observations\n",
    "        rewards = env_info.rewards\n",
    "        dones = env_info.local_done\n",
    "        return self.states, actions, rewards, next_states, dones\n",
    "        \n",
    "    def step(self, env, gamma, tau):        \n",
    "        states, actions, rewards, next_states, dones = self.act(env)\n",
    "        self.scores += rewards\n",
    "        self.memory.add(states, actions, rewards, next_states, dones)\n",
    "        self.states = next_states\n",
    "        self.steps = (self.steps + 1) % self.update_every\n",
    "\n",
    "        if (len(self.memory) > self.memory.batch_size) and (self.update_every == 0):\n",
    "            experiences = self.memory.sample()\n",
    "            # Update local nets\n",
    "            self.learn(experiences, gamma)\n",
    "            # soft update\n",
    "            self.soft_update(tau)\n",
    "        \n",
    "        return dones\n",
    "        \n",
    "    def learn(self, experiences, gamma):\n",
    "        states, actions, rewards, next_states, dones = experiences\n",
    "        \n",
    "        # calculate critic loss\n",
    "        target_next_actions = self.target_networks.actor(next_states)\n",
    "        target_next_critic_value = self.target_networks.critic(next_states, target_next_actions)\n",
    "        target_critic_value = rewards + gamma * (1 - dones) * target_next_critic_value\n",
    "        local_critic_value = self.local_networks.critic(states, actions)\n",
    "        critic_loss = F.mse_loss(local_critic_value, target_next_critic_value)   \n",
    "        \n",
    "        # update critic\n",
    "        self.critic_opt.zero_grad()\n",
    "        critic_loss.backward()\n",
    "        torch.nn.utils.clip_grad_norm_(self.local_networks.critic.parameters(), 1)\n",
    "        self.critic_opt.step()\n",
    "        \n",
    "        # calculate policy loss\n",
    "        actions_pred = self.local_networks.actor(states)\n",
    "        policy_loss = -self.local_networks.critic(states, actions_pred).mean()\n",
    "        \n",
    "        # it's your turn, actor\n",
    "        self.actor_opt.zero_grad()\n",
    "        policy_loss.backward()\n",
    "        self.actor_opt.step()\n",
    "        \n",
    "    def soft_update(self, tau):            \n",
    "        for target_param, local_param in zip(self.target_networks.actor.parameters(), \n",
    "                                             self.local_networks.actor.parameters()):\n",
    "            target_param.data.copy_(tau * local_param.data + (1.0 - tau) * target_param.data)\n",
    "        \n",
    "        for target_param, local_param in zip(self.target_networks.critic.parameters(), \n",
    "                                             self.local_networks.critic.parameters()):\n",
    "            target_param.data.copy_(tau * local_param.data + (1.0 - tau) * target_param.data)\n",
    "            \n",
    "    def hard_update(self):            \n",
    "        for target_param, local_param in zip(self.target_networks.actor.parameters(), \n",
    "                                             self.local_networks.actor.parameters()):\n",
    "            target_param.data.copy_(local_param.data)\n",
    "        \n",
    "        for target_param, local_param in zip(self.target_networks.critic.parameters(), \n",
    "                                             self.local_networks.critic.parameters()):\n",
    "            target_param.data.copy_(local_param.data)\n",
    "    \n",
    "    def save(self, filename):\n",
    "        torch.save(self.local_networks.actor.state_dict(), filename + '_actor.pth')\n",
    "        torch.save(self.local_networks.critic.state_dict(), filename + '_critic.pth')\n",
    "\n",
    "    def load(self, filename):\n",
    "        actor_state_dict = torch.load(filename + '_actor', map_location=lambda storage, loc: storage)\n",
    "        self.local_networks.actor.load_state_dict(actor_state_dict)\n",
    "        \n",
    "        critic_state_dict = torch.load(filename + '_critic', map_location=lambda storage, loc: storage)\n",
    "        self.local_networks.critic.load_state_dict(critic_state_dict)"
   ]
  },
  {
   "cell_type": "code",
   "execution_count": null,
   "metadata": {},
   "outputs": [],
   "source": [
    "class Normalizer:\n",
    "    \n",
    "    def __init__(self):\n",
    "        pass\n",
    "    \n",
    "    def normalize_batch(self, batch):\n",
    "        std = batch.mean() + 1e-4\n",
    "        mean = batch.std()\n",
    "        return (batch - mean) / std"
   ]
  },
  {
   "cell_type": "code",
   "execution_count": null,
   "metadata": {},
   "outputs": [],
   "source": [
    "# import multiprocessing as mp\n",
    "# import sys\n",
    "\n",
    "# class ProcessWrapper(mp.Process):\n",
    "#     STEP = 0\n",
    "#     RESET = 1\n",
    "#     EXIT = 2\n",
    "#     SPECS = 3\n",
    "#     def __init__(self, pipe, task):\n",
    "#         mp.Process.__init__(self)\n",
    "#         self.pipe = pipe\n",
    "#         self.task = lambda: DDPGAgent(state_size, action_size)\n",
    "    \n",
    "#     def run(self):\n",
    "#         task = self.task()\n",
    "#         while True:\n",
    "#             op, data = self.pipe.recv()\n",
    "#             if op == self.STEP:\n",
    "#                 self.pipe.send(task.step(data))\n",
    "#             elif op == self.RESET:\n",
    "#                 self.pipe.send(task.reset())\n",
    "#             elif op == self.EXIT:\n",
    "#                 self.pipe.close()\n",
    "#                 return\n",
    "#             elif op == self.SPECS:\n",
    "#                 self.pipe.send([task.state_dim, task.action_dim, task.name])\n",
    "#             else:\n",
    "#                 raise Exception('Unknown command')\n",
    "        \n",
    "\n",
    "# class ProcessTask:\n",
    "#     def __init__(self):\n",
    "#         self.pipe, worker_pipe = mp.Pipe()\n",
    "#         self.worker = ProcessWrapper(worker_pipe, task)\n",
    "#         self.worker.start()\n",
    "#         self.pipe.send([ProcessWrapper.SPECS, None])\n",
    "#         self.state_size, self.action_size = self.pipe.recv()\n",
    "\n",
    "# class ParallelAgents(mp.Process):\n",
    "#     def __init__(self, num_agents):\n",
    "#         self.num_agents = num_agents\n",
    "#         self.tasks = [ProcessTask() for _ in range(num_agents)]\n",
    "    \n",
    "#     def step(self):\n",
    "#         results = [task.step(action) for task, action in zip(self.tasks, actions)]\n",
    "#         results = map(lambda x: np.stack(x), zip(*results))\n",
    "#         return results"
   ]
  },
  {
   "cell_type": "code",
   "execution_count": null,
   "metadata": {},
   "outputs": [],
   "source": [
    "class OUNoise:\n",
    "    \"\"\"Ornstein-Uhlenbeck process.\"\"\"\n",
    "\n",
    "    def __init__(self, size, seed, mu=0., theta=0.15, sigma=0.2):\n",
    "        \"\"\"Initialize parameters and noise process.\"\"\"\n",
    "        self.mu = mu * np.ones(size)\n",
    "        self.theta = theta\n",
    "        self.sigma = sigma\n",
    "        self.seed = random.seed(seed)\n",
    "        self.reset()\n",
    "\n",
    "    def reset(self):\n",
    "        \"\"\"Reset the internal state (= noise) to mean (mu).\"\"\"\n",
    "        self.state = copy.copy(self.mu)\n",
    "\n",
    "    def sample(self):\n",
    "        \"\"\"Update internal state and return it as a noise sample.\"\"\"\n",
    "        x = self.state\n",
    "        dx = self.theta * (self.mu - x) + self.sigma * np.array([random.random() for i in range(len(x))])\n",
    "        self.state = x + dx\n",
    "        return self.state\n",
    "    \n",
    "    def std_decay(self):\n",
    "        self.sigma = self.sigma * NOISE_DECAY"
   ]
  },
  {
   "cell_type": "markdown",
   "metadata": {},
   "source": [
    "TODO:\n",
    "1. Normalize rewards, states\n",
    "2. Clip gradients\n",
    "3. Action Noise"
   ]
  },
  {
   "cell_type": "markdown",
   "metadata": {},
   "source": [
    "### Train"
   ]
  },
  {
   "cell_type": "code",
   "execution_count": null,
   "metadata": {},
   "outputs": [],
   "source": [
    "# agents = [DDPGAgent(state_size, action_size) for i in range(num_agents)]\n",
    "agent = DDPGAgent(state_size, action_size, train_mode=True, seed=10)"
   ]
  },
  {
   "cell_type": "code",
   "execution_count": null,
   "metadata": {},
   "outputs": [],
   "source": [
    "scores = []\n",
    "scores_window = deque(maxlen=100)\n",
    "MAX_STEPS = 1100\n",
    "episodes = 200"
   ]
  },
  {
   "cell_type": "code",
   "execution_count": null,
   "metadata": {
    "scrolled": true
   },
   "outputs": [],
   "source": [
    "for i in range(1, episodes + 1):\n",
    "    \n",
    "    agent.reset(env)\n",
    "    num_steps = 0\n",
    "    done = False\n",
    "    while (not done) and (num_steps <= MAX_STEPS):\n",
    "        dones = agent.step(env, GAMMA, TAU)\n",
    "        done = dones[0]\n",
    "        num_steps += 1\n",
    "\n",
    "    scores.append(agent.scores.mean())\n",
    "    scores_window.append(agent.scores.mean())\n",
    "    agent.noise.std_decay()\n",
    "    \n",
    "    if np.mean(scores_window) > 30:\n",
    "        print('Episode {}: Average score of consecutive 100 episodes: {:.2f}'.format(i, np.mean(scores_window)))\n",
    "        agent.save('checkpoint')\n",
    "    elif i % 10 == 0:\n",
    "        print('Episode {} score: {:.2f}...'.format(i, agent.scores.mean()))"
   ]
  },
  {
   "cell_type": "code",
   "execution_count": null,
   "metadata": {},
   "outputs": [],
   "source": [
    "import matplotlib.pyplot as plt\n",
    "%matplotlib inline"
   ]
  },
  {
   "cell_type": "code",
   "execution_count": null,
   "metadata": {},
   "outputs": [],
   "source": [
    "plt.plot(np.arange(len(scores)), scores)\n",
    "# plt.hlines(30, 0, 100, colors='green', linestyle='dashed')\n",
    "# plt.hlines(np.mean(scores), 0, 100, colors='red', linestyle='dashed')\n",
    "plt.ylabel('Score')\n",
    "plt.xlabel('Episodes')"
   ]
  },
  {
   "cell_type": "markdown",
   "metadata": {},
   "source": [
    "### Evaluate"
   ]
  },
  {
   "cell_type": "code",
   "execution_count": null,
   "metadata": {},
   "outputs": [],
   "source": []
  },
  {
   "cell_type": "code",
   "execution_count": null,
   "metadata": {},
   "outputs": [],
   "source": []
  },
  {
   "cell_type": "code",
   "execution_count": null,
   "metadata": {},
   "outputs": [],
   "source": []
  }
 ],
 "metadata": {
  "kernelspec": {
   "display_name": "Python 3",
   "language": "python",
   "name": "python3"
  },
  "language_info": {
   "codemirror_mode": {
    "name": "ipython",
    "version": 3
   },
   "file_extension": ".py",
   "mimetype": "text/x-python",
   "name": "python",
   "nbconvert_exporter": "python",
   "pygments_lexer": "ipython3",
   "version": "3.6.5"
  }
 },
 "nbformat": 4,
 "nbformat_minor": 2
}
